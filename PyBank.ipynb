{
 "cells": [
  {
   "cell_type": "code",
   "execution_count": 15,
   "metadata": {},
   "outputs": [
    {
     "name": "stdout",
     "output_type": "stream",
     "text": [
      "total months: $86\n",
      "total profits: $38382578\n",
      "Max monthly profit: $1170593, occurred in month Feb-2012\n",
      "Min monthly profit: $-1196225, occurred in month Sep-2013\n",
      "Average monthly profit: $446309.05\n"
     ]
    }
   ],
   "source": [
    "import csv\n",
    "\n",
    "# pull out the data\n",
    "data = []\n",
    "with open(\"budget_data.csv\") as f_obj:\n",
    "    read_obj = csv.reader(f_obj)\n",
    "\n",
    "    for row in read_obj:\n",
    "        data.append(row)\n",
    "\n",
    "# use a slice to remove the header data\n",
    "data = data[1:]\n",
    "\n",
    "# calculate answers\n",
    "total_months = len(data)\n",
    "total_profits = 0\n",
    "max_month = data[0][0]\n",
    "min_month = data[0][0]\n",
    "max = int(data[0][1])\n",
    "min = int(data[0][1])\n",
    "\n",
    "for row in data:\n",
    "    date = row[0]\n",
    "    profit = int(row[1])\n",
    "    total_profits += profit\n",
    "\n",
    "    if profit > max:\n",
    "        max_month = date\n",
    "        max = profit\n",
    "\n",
    "    if profit < min:\n",
    "        min_month = date\n",
    "        min = profit\n",
    "\n",
    "average = total_profits / total_months\n",
    "\n",
    "print(\"total months: $%d\" % total_months)\n",
    "print(\"total profits: $%d\" % total_profits)\n",
    "print(\"Max monthly profit: $%d, occurred in month %s\" % (max, max_month))\n",
    "print(\"Min monthly profit: $%d, occurred in month %s\" % (min, min_month))\n",
    "print(\"Average monthly profit: $%0.2f\" % round(average, 2))\n",
    "\n",
    "with open(\"pybank.txt\", \"w\") as w_obj:\n",
    "    w_obj.write(\"Total Months: %d\" % total_months)  \n",
    "    \n",
    "    w_obj.write(\"Total Profits: %d\" % total_profits) \n",
    "    \n",
    "    w_obj.write(\"Max Monthly Profit: %d\" % max) \n",
    "    \n",
    "    w_obj.write(\"Max Month: %s\"% max_month) \n",
    "    \n",
    "    w_obj.write(\"Min Monthly Profit: %d\" % max) \n",
    "    \n",
    "    w_obj.write(\"Min Month: %s\"% min_month) \n",
    "    \n",
    "    w_obj.write(\"Total Profits: %d\" % average) \n",
    "    "
   ]
  },
  {
   "cell_type": "code",
   "execution_count": null,
   "metadata": {},
   "outputs": [],
   "source": []
  }
 ],
 "metadata": {
  "kernelspec": {
   "display_name": "Python 3",
   "language": "python",
   "name": "python3"
  },
  "language_info": {
   "codemirror_mode": {
    "name": "ipython",
    "version": 3
   },
   "file_extension": ".py",
   "mimetype": "text/x-python",
   "name": "python",
   "nbconvert_exporter": "python",
   "pygments_lexer": "ipython3",
   "version": "3.8.5"
  }
 },
 "nbformat": 4,
 "nbformat_minor": 4
}
